{
 "cells": [
  {
   "attachments": {},
   "cell_type": "markdown",
   "metadata": {},
   "source": [
    "Anuragh Sundar\n",
    "\n",
    "# Classifying NBA Stats by Era\n",
    "\n",
    "In this lab I will go through K-Means and Expectation-Maximization (Gaussian Mixture Model). I will be doing unsupervised learning as that is what these techniques are used for but I do have the true labels to check the accuracy of my algorithms"
   ]
  },
  {
   "cell_type": "code",
   "execution_count": 54,
   "metadata": {},
   "outputs": [
    {
     "name": "stdout",
     "output_type": "stream",
     "text": [
      "\u001b[33mWARNING: Ignoring invalid distribution -umpy (/Users/Anuragh/opt/anaconda3/envs/lab1/lib/python3.8/site-packages)\u001b[0m\u001b[33m\n",
      "\u001b[0m\u001b[33mWARNING: Ignoring invalid distribution -umpy (/Users/Anuragh/opt/anaconda3/envs/lab1/lib/python3.8/site-packages)\u001b[0m\u001b[33m\n",
      "\u001b[0mRequirement already satisfied: numpy in /Users/Anuragh/opt/anaconda3/envs/lab1/lib/python3.8/site-packages (1.24.2)\n",
      "\u001b[33mWARNING: Ignoring invalid distribution -umpy (/Users/Anuragh/opt/anaconda3/envs/lab1/lib/python3.8/site-packages)\u001b[0m\u001b[33m\n",
      "\u001b[0m\u001b[33mWARNING: Ignoring invalid distribution -umpy (/Users/Anuragh/opt/anaconda3/envs/lab1/lib/python3.8/site-packages)\u001b[0m\u001b[33m\n",
      "\u001b[0m\u001b[33mWARNING: Ignoring invalid distribution -umpy (/Users/Anuragh/opt/anaconda3/envs/lab1/lib/python3.8/site-packages)\u001b[0m\u001b[33m\n",
      "\u001b[0m\u001b[33mWARNING: Ignoring invalid distribution -umpy (/Users/Anuragh/opt/anaconda3/envs/lab1/lib/python3.8/site-packages)\u001b[0m\u001b[33m\n",
      "\u001b[0mNote: you may need to restart the kernel to use updated packages.\n"
     ]
    }
   ],
   "source": [
    "pip install --upgrade numpy"
   ]
  },
  {
   "cell_type": "code",
   "execution_count": 55,
   "metadata": {},
   "outputs": [
    {
     "name": "stdout",
     "output_type": "stream",
     "text": [
      "\u001b[33mWARNING: Ignoring invalid distribution -umpy (/Users/Anuragh/opt/anaconda3/envs/lab1/lib/python3.8/site-packages)\u001b[0m\u001b[33m\n",
      "\u001b[0m\u001b[33mWARNING: Ignoring invalid distribution -umpy (/Users/Anuragh/opt/anaconda3/envs/lab1/lib/python3.8/site-packages)\u001b[0m\u001b[33m\n",
      "\u001b[0mRequirement already satisfied: scipy in /Users/Anuragh/opt/anaconda3/envs/lab1/lib/python3.8/site-packages (1.6.3)\n",
      "Collecting numpy<1.23.0,>=1.16.5\n",
      "  Using cached numpy-1.22.4-cp38-cp38-macosx_10_15_x86_64.whl (17.6 MB)\n",
      "\u001b[33mWARNING: Ignoring invalid distribution -umpy (/Users/Anuragh/opt/anaconda3/envs/lab1/lib/python3.8/site-packages)\u001b[0m\u001b[33m\n",
      "\u001b[0mInstalling collected packages: numpy\n",
      "  Attempting uninstall: numpy\n",
      "\u001b[33m    WARNING: Ignoring invalid distribution -umpy (/Users/Anuragh/opt/anaconda3/envs/lab1/lib/python3.8/site-packages)\u001b[0m\u001b[33m\n",
      "\u001b[0m    Found existing installation: numpy 1.24.2\n",
      "    Uninstalling numpy-1.24.2:\n",
      "      Successfully uninstalled numpy-1.24.2\n",
      "\u001b[33mWARNING: Ignoring invalid distribution -umpy (/Users/Anuragh/opt/anaconda3/envs/lab1/lib/python3.8/site-packages)\u001b[0m\u001b[33m\n",
      "\u001b[0mSuccessfully installed numpy-1.22.4\n",
      "\u001b[33mWARNING: Ignoring invalid distribution -umpy (/Users/Anuragh/opt/anaconda3/envs/lab1/lib/python3.8/site-packages)\u001b[0m\u001b[33m\n",
      "\u001b[0m\u001b[33mWARNING: Ignoring invalid distribution -umpy (/Users/Anuragh/opt/anaconda3/envs/lab1/lib/python3.8/site-packages)\u001b[0m\u001b[33m\n",
      "\u001b[0m\u001b[33mWARNING: Ignoring invalid distribution -umpy (/Users/Anuragh/opt/anaconda3/envs/lab1/lib/python3.8/site-packages)\u001b[0m\u001b[33m\n",
      "\u001b[0mNote: you may need to restart the kernel to use updated packages.\n"
     ]
    }
   ],
   "source": [
    "pip install scipy"
   ]
  },
  {
   "cell_type": "code",
   "execution_count": 56,
   "metadata": {},
   "outputs": [
    {
     "name": "stdout",
     "output_type": "stream",
     "text": [
      "\u001b[33mWARNING: Ignoring invalid distribution -umpy (/Users/Anuragh/opt/anaconda3/envs/lab1/lib/python3.8/site-packages)\u001b[0m\u001b[33m\n",
      "\u001b[0m\u001b[33mWARNING: Ignoring invalid distribution -umpy (/Users/Anuragh/opt/anaconda3/envs/lab1/lib/python3.8/site-packages)\u001b[0m\u001b[33m\n",
      "\u001b[0mRequirement already satisfied: pandas in /Users/Anuragh/opt/anaconda3/envs/lab1/lib/python3.8/site-packages (1.3.3)\n",
      "Requirement already satisfied: pytz>=2017.3 in /Users/Anuragh/opt/anaconda3/envs/lab1/lib/python3.8/site-packages (from pandas) (2022.7.1)\n",
      "Requirement already satisfied: numpy>=1.17.3 in /Users/Anuragh/opt/anaconda3/envs/lab1/lib/python3.8/site-packages (from pandas) (1.22.4)\n",
      "Requirement already satisfied: python-dateutil>=2.7.3 in /Users/Anuragh/opt/anaconda3/envs/lab1/lib/python3.8/site-packages (from pandas) (2.8.2)\n",
      "Requirement already satisfied: six>=1.5 in /Users/Anuragh/opt/anaconda3/envs/lab1/lib/python3.8/site-packages (from python-dateutil>=2.7.3->pandas) (1.16.0)\n",
      "\u001b[33mWARNING: Ignoring invalid distribution -umpy (/Users/Anuragh/opt/anaconda3/envs/lab1/lib/python3.8/site-packages)\u001b[0m\u001b[33m\n",
      "\u001b[0m\u001b[33mWARNING: Ignoring invalid distribution -umpy (/Users/Anuragh/opt/anaconda3/envs/lab1/lib/python3.8/site-packages)\u001b[0m\u001b[33m\n",
      "\u001b[0m\u001b[33mWARNING: Ignoring invalid distribution -umpy (/Users/Anuragh/opt/anaconda3/envs/lab1/lib/python3.8/site-packages)\u001b[0m\u001b[33m\n",
      "\u001b[0m\u001b[33mWARNING: Ignoring invalid distribution -umpy (/Users/Anuragh/opt/anaconda3/envs/lab1/lib/python3.8/site-packages)\u001b[0m\u001b[33m\n",
      "\u001b[0mNote: you may need to restart the kernel to use updated packages.\n"
     ]
    }
   ],
   "source": [
    "pip install pandas"
   ]
  },
  {
   "attachments": {},
   "cell_type": "markdown",
   "metadata": {},
   "source": [
    "We will set up our plotting enviornment"
   ]
  },
  {
   "cell_type": "code",
   "execution_count": 57,
   "metadata": {},
   "outputs": [],
   "source": [
    "import numpy as np \n",
    "import pickle\n",
    "import os\n",
    "from numpy.random import default_rng\n",
    "from scipy.stats import norm\n",
    "\n",
    "rng = default_rng(seed=12345)\n",
    "\n",
    "import matplotlib.pyplot as plt\n",
    "from matplotlib import rc\n",
    "import matplotlib as mpl\n",
    "# colors used \n",
    "ORANGE = '#FF9132'\n",
    "TEAL = '#0598B0'\n",
    "GREEN = '#008F00'\n",
    "PURPLE = '#8A2BE2'\n",
    "GRAY = '#969696'\n",
    "RED = '#B00805'\n",
    "FIG_WIDTH = 4\n",
    "FIG_HEIGHT = 3\n",
    "\n",
    "\n",
    "plt.rcParams.update({\n",
    "    \"text.usetex\": False,\n",
    "    \"font.family\": \"DejaVu Sans\",\n",
    "    \"font.serif\": [\"Palatino\"],\n",
    "    \"font.size\": 12,\n",
    "    \"axes.titlesize\": 15,\n",
    "    \"axes.spines.right\": False,\n",
    "    \"axes.spines.top\": False,\n",
    "    \"lines.linewidth\": 3\n",
    "})"
   ]
  },
  {
   "attachments": {},
   "cell_type": "markdown",
   "metadata": {},
   "source": [
    "Now we will import our data. We import a CSV file and then search for the criteria that we want met and extract. Once we have done that we create a dictionary with our features,samples and labels. Remember the labels are only used to check"
   ]
  },
  {
   "cell_type": "code",
   "execution_count": 58,
   "metadata": {},
   "outputs": [
    {
     "name": "stdout",
     "output_type": "stream",
     "text": [
      "These are the features of each data sample: \n",
      "\n",
      " ['FGA', 'FG%', '3PA', '3P%', '2PA', '2P%', 'eFG%', 'FTA', 'FT%', 'DRB', 'TRB', 'AST', 'STL', 'BLK', 'TOV', 'PF', 'PTS']\n",
      "\n",
      "This is your dataset shape:\n",
      "\n",
      " (600, 17)\n",
      "\n",
      "This is how your labels look:\n",
      "\n",
      " [1980, 2010, 2010, 1980, 1980, 2000, 1980, 2010, 1980, 2000]\n"
     ]
    },
    {
     "name": "stderr",
     "output_type": "stream",
     "text": [
      "<ipython-input-58-dbaf97e643d3>:50: SettingWithCopyWarning: \n",
      "A value is trying to be set on a copy of a slice from a DataFrame.\n",
      "Try using .loc[row_indexer,col_indexer] = value instead\n",
      "\n",
      "See the caveats in the documentation: https://pandas.pydata.org/pandas-docs/stable/user_guide/indexing.html#returning-a-view-versus-a-copy\n",
      "  df_all[tk] = df_all[tk]/df_all['MP']\n"
     ]
    }
   ],
   "source": [
    "import pandas as pd\n",
    "\n",
    "\n",
    "# load the CSV file into a pandas dataframe\n",
    "df = pd.read_csv('pstats.csv')\n",
    "\n",
    "# select rows where Season is between 1980 and 1990 and drop any rows with missing data\n",
    "# add minute treshold to filter data\n",
    "df80s = df[(df['Season'] >= 1980) & (df['Season'] < 1990) &(df['MP'] > 1500) ].dropna()\n",
    "\n",
    "#query for positional trends\n",
    "#df80s = df.query('Season >= 1980 & Season < 1990 & MP > 1500 & Pos in [\"G\",\"PG\",\"G-F\",\"F-G\", \"SG\"]').dropna()\n",
    "\n",
    "# select 200 random player seasons from the 80s\n",
    "np.random.seed(123)  # set random seed for reproducibility\n",
    "random_80s = np.random.choice(df80s.index, size=200, replace=False)\n",
    "df80s = df80s.loc[random_80s]\n",
    "\n",
    "# select rows where Season is between 2000 and 2010 and drop any rows with missing data\n",
    "df2000s = df[(df['Season'] >= 2000) & (df['Season'] < 2010) & (df['MP'] > 1500)].dropna()\n",
    "\n",
    "#query for positional trends\n",
    "#df2000s = df.query('Season >= 2000 & Season < 2010 & MP > 1500 & Pos in [\"G\",\"PG\",\"G-F\",\"F-G\",\"SG\"]').dropna()\n",
    "\n",
    "# select 200 random player seasons from the 2000s\n",
    "np.random.seed(456)  # set random seed for reproducibility\n",
    "random_2000s = np.random.choice(df2000s.index, size=200, replace=False)\n",
    "df2000s = df2000s.loc[random_2000s]\n",
    "\n",
    "# select rows where Season is between 2010 and 2020 and drop any rows with missing data\n",
    "df2010s = df[(df['Season'] >= 2013) & (df['MP'] > 1500)].dropna() #started from 2013 to better differentiate data\n",
    "\n",
    "#query for positional trends\n",
    "#df2010s = df.query('Season >= 2015 & MP > 1500 & Pos in [\"G\",\"PG\",\"G-F\",\"F-G\",\"SG\"]').dropna()\n",
    "\n",
    "# select 200 random player seasons from the 2010s\n",
    "np.random.seed(789)  # set random seed for reproducibility\n",
    "random_2010s = np.random.choice(df2010s.index, size=200, replace=False)\n",
    "df2010s = df2010s.loc[random_2010s]\n",
    "\n",
    "# combine the three dataframes into one\n",
    "combined = pd.concat([df80s, df2000s, df2010s])\n",
    "combined_shuffled = combined.sample(frac=1, random_state=42)\n",
    "\n",
    "# select the columns you want to keep\n",
    "t_keys = ['FGA', '3PA', '2PA', 'FTA', 'DRB', 'TRB', 'AST', 'STL', 'BLK', 'TOV', 'PF', 'PTS']\n",
    "keys = ['FGA', 'FG%', '3PA', '3P%', '2PA', '2P%', 'eFG%', 'FTA', 'FT%', 'DRB', 'TRB', 'AST', 'STL', 'BLK', 'TOV', 'PF', 'PTS']\n",
    "df_all = combined_shuffled[keys + ['Player', 'Season','MP']]\n",
    "for tk in t_keys: #get per game stats\n",
    "    df_all[tk] = df_all[tk]/df_all['MP']\n",
    "\n",
    "# create the NBA dictionary\n",
    "NBA = {'keys': keys,\n",
    "       'stats': df_all[keys].to_numpy(),\n",
    "       'era': []}\n",
    "\n",
    "for index, row in combined_shuffled.iterrows():\n",
    "    if row['Season'] >= 1980 and row['Season'] < 1990:\n",
    "        NBA['era'].append(1980)\n",
    "    elif row['Season'] >= 2000 and row['Season'] < 2010:\n",
    "        NBA['era'].append(2000)\n",
    "    elif row['Season'] >= 2013:\n",
    "        NBA['era'].append(2010)\n",
    "\n",
    "\n",
    "\n",
    "print('These are the features of each data sample: \\n\\n',NBA['keys'])\n",
    "print('\\nThis is your dataset shape:\\n\\n',NBA['stats'].shape)\n",
    "print('\\nThis is how your labels look:\\n\\n',NBA['era'][0:10])\n"
   ]
  },
  {
   "attachments": {},
   "cell_type": "markdown",
   "metadata": {},
   "source": [
    "We will color our data for the plots"
   ]
  },
  {
   "cell_type": "code",
   "execution_count": 59,
   "metadata": {},
   "outputs": [],
   "source": [
    "colors = np.array([ORANGE,TEAL,GREEN])\n",
    "eras = np.array([1980,2000,2010])\n",
    "cmap = []\n",
    "for e in NBA['era']:\n",
    "    cmap.append(colors[np.argwhere(e == eras).item()])"
   ]
  },
  {
   "attachments": {},
   "cell_type": "markdown",
   "metadata": {},
   "source": [
    "We will normalize our data so that we can start our K-Means"
   ]
  },
  {
   "cell_type": "code",
   "execution_count": 60,
   "metadata": {},
   "outputs": [],
   "source": [
    "def normalize(x):\n",
    "    '''\n",
    "    Normalizes the input data\n",
    "    '''\n",
    "    new_x = np.zeros_like(x)\n",
    "    for col in range(x.shape[1]):\n",
    "        new_x[:,col] = (x[:,col]-x[:,col].mean())/x[:,col].std()\n",
    "    return new_x\n",
    "\n",
    "stats = normalize(NBA['stats'])\n"
   ]
  },
  {
   "attachments": {},
   "cell_type": "markdown",
   "metadata": {},
   "source": [
    "Our keys again:"
   ]
  },
  {
   "cell_type": "code",
   "execution_count": 61,
   "metadata": {},
   "outputs": [
    {
     "name": "stdout",
     "output_type": "stream",
     "text": [
      "0:  FGA\n",
      "1:  FG%\n",
      "2:  3PA\n",
      "3:  3P%\n",
      "4:  2PA\n",
      "5:  2P%\n",
      "6:  eFG%\n",
      "7:  FTA\n",
      "8:  FT%\n",
      "9:  DRB\n",
      "10:  TRB\n",
      "11:  AST\n",
      "12:  STL\n",
      "13:  BLK\n",
      "14:  TOV\n",
      "15:  PF\n",
      "16:  PTS\n"
     ]
    }
   ],
   "source": [
    "for i in range(len(NBA['keys'])):\n",
    "    print('%d: '%i,NBA['keys'][i])\n"
   ]
  },
  {
   "cell_type": "code",
   "execution_count": 62,
   "metadata": {},
   "outputs": [
    {
     "data": {
      "image/png": "[encoded data removed]",
      "text/plain": [
       "<Figure size 432x324 with 1 Axes>"
      ]
     },
     "metadata": {},
     "output_type": "display_data"
    }
   ],
   "source": [
    "from matplotlib.lines import Line2D\n",
    "def init_plot(x_var, y_var):\n",
    "# chose the axes for each feature\n",
    "\n",
    "\n",
    "    fig, axs = plt.subplots(1,1,figsize=(FIG_WIDTH*1.5,FIG_HEIGHT*1.5))\n",
    "    # we can now use the colormap we defined\n",
    "    axs.scatter(stats[:,x_var],stats[:,y_var],c=cmap,s=75)\n",
    "    legend_elements = [Line2D([0],[0],marker='o',color='w',label=eras[i],\n",
    "                            markerfacecolor=colors[i], markersize=15) for i in range (len(eras))]\n",
    "    axs.legend(handles=legend_elements)\n",
    "    axs.set_xlabel(NBA['keys'][x_var])\n",
    "    axs.set_ylabel(NBA['keys'][y_var])\n",
    "    plt.show()\n",
    "\n",
    "init_plot(5,11)"
   ]
  },
  {
   "attachments": {},
   "cell_type": "markdown",
   "metadata": {},
   "source": [
    "When comparing AST to 2P% we see little distinciton between the eras. Lets now try this with different categories."
   ]
  },
  {
   "cell_type": "code",
   "execution_count": 63,
   "metadata": {},
   "outputs": [
    {
     "data": {
      "image/png": "[encoded data removed]",
      "text/plain": [
       "<Figure size 432x324 with 1 Axes>"
      ]
     },
     "metadata": {},
     "output_type": "display_data"
    }
   ],
   "source": [
    "init_plot(2,6)"
   ]
  },
  {
   "attachments": {},
   "cell_type": "markdown",
   "metadata": {},
   "source": [
    "Here we can see a more clear distinction of the eras with different features selected. Though 2000 vs 2010 still seems hard to guage. We will see how well our algorithms do with that."
   ]
  },
  {
   "attachments": {},
   "cell_type": "markdown",
   "metadata": {},
   "source": [
    "Now we will start our KMeans "
   ]
  },
  {
   "cell_type": "code",
   "execution_count": 64,
   "metadata": {},
   "outputs": [],
   "source": [
    "def Centroid_init(X, K):\n",
    "    \"\"\"\n",
    "    Given training data X, this function initializes K different centroids\n",
    "    Inputs:\n",
    "        X - Data as np.array of dim: Nx(# features)\n",
    "        K - Number of centroids\n",
    "    \n",
    "    Outputs:\n",
    "        m - np.array of cluster centers, dimL Kx(# features)\n",
    "    \"\"\"\n",
    "    # Hint, zeros are not a good initialization, I just made it so the whole notebook will run\n",
    "    # Get the number of samples and number of features\n",
    "    N, D = X.shape\n",
    "    \n",
    "    # Initialize the centroid matrix with zeros\n",
    "    m = np.zeros((K, D))\n",
    "    \n",
    "    # Randomly select K samples as the initial centroids\n",
    "    random_idx = np.random.choice(N, size=K, replace=False)\n",
    "    m = X[random_idx, :]\n",
    "    '''try: \n",
    "        m = np.zeros((K,X.shape[1]))\n",
    "    except:\n",
    "        m = np.zeros(K)'''\n",
    "    return m"
   ]
  },
  {
   "cell_type": "code",
   "execution_count": 65,
   "metadata": {},
   "outputs": [
    {
     "name": "stdout",
     "output_type": "stream",
     "text": [
      "[[-2.81114842e+00 -3.52419912e-01 -9.72031351e-01 -1.91218630e+00\n",
      "  -1.80599763e+00 -8.16215173e-01 -1.15495626e+00 -1.44335858e+00\n",
      "  -7.83485761e-02 -7.13957154e-01 -1.43059784e-01 -7.24275820e-01\n",
      "   2.44673607e+00 -6.00397867e-01 -2.19417461e+00  5.85677769e-01\n",
      "  -2.60089200e+00]\n",
      " [-1.22519212e+00 -4.54265567e-01  1.53231577e+00  9.78724551e-01\n",
      "  -2.13130183e+00  8.97496012e-01  2.00632090e+00 -1.43225690e+00\n",
      "   1.17093557e+00 -8.95781568e-01 -1.09489690e+00 -7.18414392e-01\n",
      "  -1.49803719e+00 -5.22161080e-01 -1.57440022e+00 -1.01030882e-01\n",
      "  -9.57227862e-01]\n",
      " [-2.55059708e-01  5.03083584e-01 -8.26226739e-01 -3.85841642e-01\n",
      "   3.43335173e-01  1.74846717e-01 -1.73870244e-01  1.50346995e+00\n",
      "  -8.25343220e-01  2.62296914e-01  4.33190524e-01 -1.09317433e+00\n",
      "  -7.88368714e-01 -1.44249960e-03 -6.86346035e-01 -4.04491125e-02\n",
      "   1.44845361e-01]]\n"
     ]
    }
   ],
   "source": [
    "m = Centroid_init(stats,len(eras))\n",
    "print(m)"
   ]
  },
  {
   "cell_type": "code",
   "execution_count": 66,
   "metadata": {},
   "outputs": [],
   "source": [
    "def Set(X, m):\n",
    "    '''\n",
    "    Now we define a function that creates the sets of data points closest\n",
    "    to each centroid. Also it is useful to compute the distortion.\n",
    "    Inputs:\n",
    "        X - Data as np.array of dim: Nx(# features)\n",
    "        m - np.array of cluster centers, dimL Kx(# features)\n",
    "    \n",
    "    Outputs:\n",
    "        C - The sets for each cluster. There should be K sets inside C, \n",
    "            but you can play around with how you define C. I suggest using a \n",
    "            dict and storing the actual datapoints such that when you call\n",
    "            C['i'], you get an np.array() of dim: Mx(# features), where M can vary in size.\n",
    "            This is useful as np.arrays can not have varying length rows...\n",
    "            \n",
    "        D - Distortion as defined. This can just be a floating point.\n",
    "    '''\n",
    "    C = {}\n",
    "    Distortion = 0\n",
    "    \n",
    "    for i in range(X.shape[0]):\n",
    "        # Find the closest centroid\n",
    "        closest_idx = np.argmin(np.sum((m - X[i])**2, axis=1))\n",
    "        # Assign the data point to the closest centroid's cluster\n",
    "        if closest_idx not in C:\n",
    "            C[closest_idx] = []\n",
    "        C[closest_idx].append(X[i])\n",
    "        # Update the distortion\n",
    "        Distortion += np.sum((X[i] - m[closest_idx])**2)\n",
    "    for k in C.keys():\n",
    "        C[k] = np.array(C[k])\n",
    "    \n",
    "    return (C, Distortion)"
   ]
  },
  {
   "cell_type": "code",
   "execution_count": 67,
   "metadata": {},
   "outputs": [
    {
     "name": "stdout",
     "output_type": "stream",
     "text": [
      "centroid 2:  (452, 17)\n",
      "centroid 1:  (118, 17)\n",
      "centroid 0:  (30, 17)\n",
      "\n",
      "Total Distortion: 12400.784\n"
     ]
    }
   ],
   "source": [
    "C, D = Set(stats,m)\n",
    "for key in C:\n",
    "    print('centroid %d: '%key, C[key].shape)\n",
    "print('\\nTotal Distortion: %.3f'%D)"
   ]
  },
  {
   "cell_type": "code",
   "execution_count": 68,
   "metadata": {},
   "outputs": [],
   "source": [
    "def Update(X, C, m):\n",
    "    '''\n",
    "    This is step 3), where we update our cluster centers.\n",
    "    If you followed the structure from before this step should \n",
    "    be very simple as C['i'] will store the entire set of datapoints\n",
    "    associated with cluster i.\n",
    "\n",
    "    Inputs:\n",
    "        X - Data as np.array of dim: Nx(# features)\n",
    "        C - Dictionary of sets corresponding to ea cluster\n",
    "        m - np.array of cluster centers, dimL Kx(# features)\n",
    "    \n",
    "    Outputs:\n",
    "        m - np.array of NEW cluster centers, dimL Kx(# features)\n",
    "    \n",
    "    HINT: Cluster centers can be empty if initialized poorly, so be careful\n",
    "    '''\n",
    "    '''try: \n",
    "        m = np.zeros((m.shape[0],X.shape[1]))\n",
    "    except:\n",
    "        m = np.zeros(m.shape[0])'''\n",
    "    for k in C.keys():\n",
    "        m[k] = np.mean(C[k], axis=0)\n",
    "    \n",
    "    return m\n"
   ]
  },
  {
   "cell_type": "code",
   "execution_count": 69,
   "metadata": {},
   "outputs": [
    {
     "name": "stdout",
     "output_type": "stream",
     "text": [
      "[[-1.41912634 -0.7862824  -0.41724356 -0.27095548 -0.96218766 -0.8829742\n",
      "  -1.08010303 -0.79438537 -0.21272175 -0.60887899 -0.58054207  0.49436709\n",
      "   1.37498696 -0.35079817 -0.6688977   0.48074491 -1.48222255]\n",
      " [-0.43252967 -0.4729085   1.13360303  0.78666478 -1.15969831  0.05761305\n",
      "   0.71280241 -0.95287102  0.54967702 -0.50697209 -0.66719645 -0.21562544\n",
      "  -0.32191571 -0.443897   -0.89842987 -0.58675058 -0.42619167]\n",
      " [ 0.20710684  0.1756453  -0.26824746 -0.18738447  0.36661511  0.04356391\n",
      "  -0.11439733  0.30148306 -0.12938105  0.17276344  0.21271116  0.02347962\n",
      "  -0.00722025  0.13916768  0.27894172  0.1212704   0.20964003]]\n"
     ]
    }
   ],
   "source": [
    "m = Update(stats,C,m)\n",
    "print(m)\n"
   ]
  },
  {
   "cell_type": "code",
   "execution_count": 70,
   "metadata": {},
   "outputs": [],
   "source": [
    "def K_Means(X, K):\n",
    "    '''\n",
    "    Now put it all together. \n",
    "\n",
    "    Inputs:\n",
    "        X - Data as np.array of dim: Nx(# features)\n",
    "        K - Number of centroids\n",
    "    \n",
    "    Outputs\n",
    "        m - np.array of FINAL cluster centers, dimL Kx(# features)\n",
    "        D - The final distortion\n",
    "    '''\n",
    "    '''try: \n",
    "        m = np.zeros((K,X.shape[1]))\n",
    "    except:\n",
    "        m = np.zeros(K)'''\n",
    "    D = 0\n",
    "\n",
    "    cent = Centroid_init(X, K)\n",
    "    D_prev = None\n",
    "    for i in range(1000):\n",
    "        C, D = Set(X, cent)\n",
    "        cent = Update(X, C, cent)\n",
    "        if D_prev is not None and abs(D - D_prev) < 1e-5: #convergence\n",
    "            break\n",
    "        D_prev = D\n",
    "\n",
    "    print(\"DONE\")\n",
    "    return(cent, D)"
   ]
  },
  {
   "cell_type": "code",
   "execution_count": 71,
   "metadata": {},
   "outputs": [
    {
     "name": "stdout",
     "output_type": "stream",
     "text": [
      "DONE\n"
     ]
    }
   ],
   "source": [
    "m, D = K_Means(stats, len(eras))"
   ]
  },
  {
   "cell_type": "code",
   "execution_count": 72,
   "metadata": {},
   "outputs": [
    {
     "name": "stdout",
     "output_type": "stream",
     "text": [
      "\t1980 \t2000 \t2010 \t\n",
      "\n",
      "K = 0 \t15\t102\t118\t\n",
      "\n",
      "K = 1 \t77\t64\t39\t\n",
      "\n",
      "K = 2 \t108\t34\t43\t\n",
      "\n"
     ]
    }
   ],
   "source": [
    "\n",
    "era_count = np.zeros((len(eras),len(eras)))\n",
    "for idx in range(stats.shape[0]):\n",
    "    distance = np.linalg.norm((stats[idx]-m),axis=1)**2\n",
    "    centroid = np.argmin(distance)\n",
    "    temp_era = NBA['era'][idx]\n",
    "    era_count[centroid][np.argwhere(temp_era == eras).item()] += 1\n",
    "\n",
    "print('\\t',end=\"\")\n",
    "for e in eras:\n",
    "    print(e,'\\t',end=\"\")\n",
    "print('\\n')\n",
    "for i in range(era_count.shape[0]):\n",
    "    print('K = %d \\t'%i,end=\"\")\n",
    "    for j in range(era_count.shape[1]):\n",
    "        print(str(int(era_count[i,j]))+'\\t',end=\"\")\n",
    "    print(\"\\n\")"
   ]
  },
  {
   "attachments": {},
   "cell_type": "markdown",
   "metadata": {},
   "source": [
    "Overall, we can see that our K-means algorithm did not do a good job of labeling the data. This could show that the NBA really hasn't changed as much as is commonly percived. We should also consider factors like positions, games played and minutes played. I put a treshold on minutes played to only consider quality players, but that did not seem to change much. I also adjusted the 2010's era to 2013 - present to both consider the modern game and hope for more seperation in the data but again it did not change much. Finally I adjusted for position but unfortunalety our data still did not change much. I tried to see if any position in particular changed throughout the eras but no such seperation occured. I would also like to see if we can distingush one position from another based on the players stas."
   ]
  },
  {
   "cell_type": "code",
   "execution_count": 73,
   "metadata": {},
   "outputs": [
    {
     "name": "stdout",
     "output_type": "stream",
     "text": [
      "\u001b[33mWARNING: Ignoring invalid distribution -umpy (/Users/Anuragh/opt/anaconda3/envs/lab1/lib/python3.8/site-packages)\u001b[0m\u001b[33m\n",
      "\u001b[0m\u001b[33mWARNING: Ignoring invalid distribution -umpy (/Users/Anuragh/opt/anaconda3/envs/lab1/lib/python3.8/site-packages)\u001b[0m\u001b[33m\n",
      "\u001b[0mRequirement already satisfied: scikit-learn in /Users/Anuragh/opt/anaconda3/envs/lab1/lib/python3.8/site-packages (1.2.2)\n",
      "Requirement already satisfied: scipy>=1.3.2 in /Users/Anuragh/opt/anaconda3/envs/lab1/lib/python3.8/site-packages (from scikit-learn) (1.6.3)\n",
      "Requirement already satisfied: joblib>=1.1.1 in /Users/Anuragh/opt/anaconda3/envs/lab1/lib/python3.8/site-packages (from scikit-learn) (1.2.0)\n",
      "Requirement already satisfied: numpy>=1.17.3 in /Users/Anuragh/opt/anaconda3/envs/lab1/lib/python3.8/site-packages (from scikit-learn) (1.22.4)\n",
      "Requirement already satisfied: threadpoolctl>=2.0.0 in /Users/Anuragh/opt/anaconda3/envs/lab1/lib/python3.8/site-packages (from scikit-learn) (3.1.0)\n",
      "\u001b[33mWARNING: Ignoring invalid distribution -umpy (/Users/Anuragh/opt/anaconda3/envs/lab1/lib/python3.8/site-packages)\u001b[0m\u001b[33m\n",
      "\u001b[0m\u001b[33mWARNING: Ignoring invalid distribution -umpy (/Users/Anuragh/opt/anaconda3/envs/lab1/lib/python3.8/site-packages)\u001b[0m\u001b[33m\n",
      "\u001b[0m\u001b[33mWARNING: Ignoring invalid distribution -umpy (/Users/Anuragh/opt/anaconda3/envs/lab1/lib/python3.8/site-packages)\u001b[0m\u001b[33m\n",
      "\u001b[0m\u001b[33mWARNING: Ignoring invalid distribution -umpy (/Users/Anuragh/opt/anaconda3/envs/lab1/lib/python3.8/site-packages)\u001b[0m\u001b[33m\n",
      "\u001b[0mNote: you may need to restart the kernel to use updated packages.\n"
     ]
    }
   ],
   "source": [
    "pip install scikit-learn"
   ]
  },
  {
   "attachments": {},
   "cell_type": "markdown",
   "metadata": {},
   "source": [
    "Now we will do our EM algorithim. "
   ]
  },
  {
   "attachments": {},
   "cell_type": "markdown",
   "metadata": {},
   "source": [
    "### EM Algorithm\n",
    " \n",
    "Here are the general steps to write an EM algorithm our stats dataset using a Gaussian mixture model:\n",
    "\n",
    "Initialize the model parameters:\n",
    " - The number of mixture components K (in our case 3).\n",
    " - The mixing coefficients pi, which are the probabilities of each mixture component. \n",
    " - The means mu and covariances sigma of each mixture component.\n",
    "\n",
    "E-step: Calculate the responsibilities of each mixture component for each data point. This involves computing the probability density function (PDF) of each mixture component for each data point, and then computing the posterior probabilities of each mixture component using Bayes' theorem and the mixing coefficients.\n",
    "\n",
    "M-step: Update the model parameters using the responsibilities calculated in E step:\n",
    "\n",
    " - Update the mixing coefficients pi using the average responsibilities of each component.\n",
    " - Update the means mu of each component using the weighted average of the data points, where the weights are the responsibilities of each component.\n",
    " - Update the covariances sigma of each component using the weighted average of the squared distances of the data points from the means, where the weights are the responsibilities of each component.\n",
    "\n",
    "Repeat steps 2 and 3 until convergence, which is typically defined by a maximum number of iterations or a threshold for the change in the log-likelihood of the data."
   ]
  },
  {
   "attachments": {},
   "cell_type": "markdown",
   "metadata": {},
   "source": [
    "For simplicities sake I will write down an example for an EM algorithm ![EM Equation](gmmwork.png)"
   ]
  },
  {
   "attachments": {},
   "cell_type": "markdown",
   "metadata": {},
   "source": [
    "This work shows what an EM algorthim would look like for a varying sigma^2."
   ]
  },
  {
   "attachments": {},
   "cell_type": "markdown",
   "metadata": {},
   "source": [
    "Here we will use a built in EM model for our data:"
   ]
  },
  {
   "cell_type": "code",
   "execution_count": 74,
   "metadata": {},
   "outputs": [
    {
     "name": "stdout",
     "output_type": "stream",
     "text": [
      "Accuracy: 0.13\n"
     ]
    }
   ],
   "source": [
    "from sklearn.mixture import GaussianMixture\n",
    "gmm = GaussianMixture(n_components=3)\n",
    "gmm.fit(stats)\n",
    "labels = gmm.predict(stats)\n",
    "# Define the label dictionary\n",
    "label_dict = {1980: 0, 2000: 1, 2010: 2}\n",
    "\n",
    "# Convert the true labels to integer values\n",
    "true_labels = np.array([label_dict[label] for label in NBA['era']])\n",
    "\n",
    "# Compare the predicted labels to the true labels\n",
    "accuracy = np.mean(labels == true_labels)\n",
    "print(f'Accuracy: {accuracy:.2f}')\n"
   ]
  },
  {
   "attachments": {},
   "cell_type": "markdown",
   "metadata": {},
   "source": [
    "We can see even the EM algorithm wasn't very accurate and thus can conclude that NBA eras are not seperable purely based on statistics."
   ]
  },
  {
   "attachments": {},
   "cell_type": "markdown",
   "metadata": {},
   "source": [
    "Below is an extra class I created that could be used instead of the built in one. It used KMeans and some other Sklearn functions. "
   ]
  },
  {
   "cell_type": "code",
   "execution_count": 75,
   "metadata": {},
   "outputs": [],
   "source": [
    "\n",
    "class GaussianMixture:\n",
    "    def __init__(self, n_components=3, max_iter=100, tol=1e-6):\n",
    "        self.n_components = n_components\n",
    "        self.max_iter = max_iter\n",
    "        self.tol = tol\n",
    "        \n",
    "    def initialize_parameters(self, X):\n",
    "        # Initialize means using K-means clustering\n",
    "        kmeans = KMeans(n_clusters=self.n_components).fit(X) #from sklearn (our use the one we created earlier)\n",
    "        self.means = kmeans.cluster_centers_\n",
    "\n",
    "        # Initialize covariances to be diagonal matrices with equal variance\n",
    "        var = np.var(X, axis=0)\n",
    "        self.covs = np.array([np.diag(var)] * self.n_components)\n",
    "\n",
    "        # Initialize mixture coefficients to be equal\n",
    "        self.weights = np.ones(self.n_components) / self.n_components\n",
    "\n",
    "    def compute_likelihood(self, X):\n",
    "        likelihood = np.zeros((X.shape[0], self.n_components))\n",
    "        for k in range(self.n_components):\n",
    "            likelihood[:, k] = multivariate_normal.pdf(X, self.means[k], self.covs[k]) #from sklearn\n",
    "        return likelihood\n",
    "    \n",
    "    def compute_posterior(self, X):\n",
    "        likelihood = self.compute_likelihood(X)\n",
    "        posterior = likelihood * self.weights\n",
    "        posterior /= np.sum(posterior, axis=1, keepdims=True)\n",
    "        return posterior\n",
    "    \n",
    "    def update_parameters(self, X, posterior):\n",
    "        n_samples = X.shape[0]\n",
    "        self.weights = np.mean(posterior, axis=0)\n",
    "\n",
    "        for k in range(self.n_components):\n",
    "            # Update means\n",
    "            self.means[k] = np.sum(posterior[:, k].reshape(n_samples, 1) * X, axis=0) / np.sum(posterior[:, k])\n",
    "\n",
    "            # Update covariances\n",
    "            diff = X - self.means[k]\n",
    "            self.covs[k] = (posterior[:, k].reshape(n_samples, 1) * diff).T @ diff / np.sum(posterior[:, k])\n",
    "\n",
    "    def fit(self, X):\n",
    "        self.initialize_parameters(X)\n",
    "\n",
    "        for i in range(self.max_iter):\n",
    "            # E-step: Compute posterior probabilities\n",
    "            posterior = self.compute_posterior(X)\n",
    "\n",
    "            # M-step: Update parameters\n",
    "            self.update_parameters(X, posterior)\n",
    "\n",
    "            # Compute log-likelihood\n",
    "            log_likelihood = np.sum(np.log(np.sum(posterior * self.weights, axis=1)))\n",
    "\n",
    "            # Check for convergence\n",
    "            if i > 0 and np.abs(log_likelihood - prev_log_likelihood) < self.tol:\n",
    "                break\n",
    "                \n",
    "            prev_log_likelihood = log_likelihood\n"
   ]
  }
 ],
 "metadata": {
  "kernelspec": {
   "display_name": "lab1",
   "language": "python",
   "name": "python3"
  },
  "language_info": {
   "codemirror_mode": {
    "name": "ipython",
    "version": 3
   },
   "file_extension": ".py",
   "mimetype": "text/x-python",
   "name": "python",
   "nbconvert_exporter": "python",
   "pygments_lexer": "ipython3",
   "version": "3.8.5"
  },
  "orig_nbformat": 4
 },
 "nbformat": 4,
 "nbformat_minor": 2
}
